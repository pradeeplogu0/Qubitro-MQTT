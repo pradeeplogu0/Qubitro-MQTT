{
  "nbformat": 4,
  "nbformat_minor": 0,
  "metadata": {
    "colab": {
      "name": "Qubitro-GPS-Map.ipynb",
      "provenance": [],
      "collapsed_sections": []
    },
    "kernelspec": {
      "display_name": "Python 3",
      "name": "python3"
    },
    "language_info": {
      "name": "python"
    }
  },
  "cells": [
    {
      "cell_type": "markdown",
      "metadata": {
        "id": "HrwWKt06VPum"
      },
      "source": [
        "Basic script to plot all detected devices on a map from a wardriving data capture"
      ]
    },
    {
      "cell_type": "code",
      "metadata": {
        "id": "aGkPGbSbQ7bV"
      },
      "source": [
        "# import libraries + wardriving data\n",
        "\n",
        "import pandas as pd\n",
        "wd = pd.read_csv ('Neo-Baby-Walk.csv') # import list of all GPS Data from CSV file to pandas data frame\n",
        "wd.sample(100) # sample 10 random devices from dataset\n",
        "\n",
        "# len(wd) # number of detected devices"
      ],
      "execution_count": null,
      "outputs": []
    },
    {
      "cell_type": "code",
      "metadata": {
        "id": "M_DlRrUdbaHX"
      },
      "source": [
        "# start mapping devices\n",
        "\n",
        "import folium\n",
        "from folium import Map, Marker\n",
        "basic_map = folium.Map(location=[33.675899,-117.602236\t],zoom_start=17) # manually pick scope of map\n",
        "folium.PolyLine(wd[['Latitude', 'Longitude']].values.tolist(),line_opacity = 0.5, weight = 4).add_to(basic_map) # plot route\n",
        "display(basic_map)"
      ],
      "execution_count": null,
      "outputs": []
    }
  ]
}
